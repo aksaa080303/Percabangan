{
 "cells": [
  {
   "cell_type": "code",
   "execution_count": 1,
   "id": "f5f37abe",
   "metadata": {},
   "outputs": [
    {
     "name": "stdout",
     "output_type": "stream",
     "text": [
      "Isikan Nilai:50\n",
      "50 adalah bilangan genap\n",
      "program selesai\n"
     ]
    }
   ],
   "source": [
    "nilai = int(input ('Isikan Nilai:'))\n",
    "sisa_bagi = nilai % 2\n",
    "\n",
    "if sisa_bagi==0:\n",
    "    print(f'{nilai} adalah bilangan genap')\n",
    "else:\n",
    "    print(f'{nilai} adalah bilangan ganjil')\n",
    "\n",
    "print('program selesai')"
   ]
  },
  {
   "cell_type": "code",
   "execution_count": 2,
   "id": "afd61978",
   "metadata": {},
   "outputs": [
    {
     "name": "stdout",
     "output_type": "stream",
     "text": [
      "Hasil Nilai:900\n",
      "Maaf anda kurang beruntung\n"
     ]
    }
   ],
   "source": [
    "hasil_nilai = int(input('Hasil Nilai:'))\n",
    "if hasil_nilai <50:\n",
    "    print(\"D\")\n",
    "elif hasil_nilai <60:\n",
    "    print(\"E\")\n",
    "elif hasil_nilai <70:\n",
    "    print(\"C\")\n",
    "elif hasil_nilai <85:\n",
    "    print(\"B\")\n",
    "elif hasil_nilai <=100:\n",
    "    print(\"A\")\n",
    "else:\n",
    "    print(\"Maaf anda kurang beruntung\")"
   ]
  },
  {
   "cell_type": "code",
   "execution_count": null,
   "id": "80ba4f74",
   "metadata": {},
   "outputs": [],
   "source": [
    "username = input('masukkan username:')\n",
    "password = input('masukkan password:')\n",
    "\n",
    "if username=='admin':\n",
    "    if password=='admin':\n",
    "        print(f'Selamat datang {username}')\n",
    "    else:\n",
    "        print(f'password anda tidak sesuai)\n",
    "else:\n",
    "    if password =='admin':\n",
    "        print(f'password anda tidak sesuai)\n",
    "    else:\n",
    "        print(\"username dan password anda tidak sesuai\")"
   ]
  },
  {
   "cell_type": "code",
   "execution_count": 22,
   "id": "f27c616b",
   "metadata": {},
   "outputs": [
    {
     "name": "stdout",
     "output_type": "stream",
     "text": [
      "masukkan nama:banjir bandang\n",
      "masukkan umur:40\n",
      "masukkan alamat:sukabumi\n",
      "masukkan uang_tabungan:100\n",
      "banjir bandang Terpantau menjadi copet juga\n"
     ]
    }
   ],
   "source": [
    "nama = input('masukkan nama:')\n",
    "umur = int(input('masukkan umur:'))\n",
    "alamat = input('masukkan alamat:')\n",
    "uang_tabungan = int(input('masukkan uang_tabungan:'))\n",
    "pangkat = ''\n",
    "\n",
    "if umur> 40:\n",
    "    if alamat == 'New York' or alamat =='Nevada' or alamat=='Havana':\n",
    "        if tabungan >10:\n",
    "            pangkat = 'Don'\n",
    "elif umur>=25 and umur <=40:\n",
    "    if  alamat == 'New Jersey' or alamat =='Manhattan' or alamat=='Nevada':\n",
    "        if uang_tabungan > 0 and uang_tabungan <=2:\n",
    "            pangkat ='underboss'\n",
    "elif umur>=18 and umur <= 24:\n",
    "    if alamat =='California' or alamat =='Detroit' or alamat=='Boston':\n",
    "        if uang_tabungan <1 :\n",
    "            pangkat = 'Capo'\n",
    "#lANJUTKAN KONDISI PERCABANGAN...\n",
    "\n",
    "if pangkat != '':\n",
    "    print(f'{nama} Kemungkinan begal dengan pangkat {pangkat}')\n",
    "else:\n",
    "    print(f'{nama} Terpantau mencurigakan')\n",
    "    \n",
    "\n"
   ]
  },
  {
   "cell_type": "code",
   "execution_count": null,
   "id": "81f93df0",
   "metadata": {},
   "outputs": [],
   "source": []
  }
 ],
 "metadata": {
  "kernelspec": {
   "display_name": "Python 3 (ipykernel)",
   "language": "python",
   "name": "python3"
  },
  "language_info": {
   "codemirror_mode": {
    "name": "ipython",
    "version": 3
   },
   "file_extension": ".py",
   "mimetype": "text/x-python",
   "name": "python",
   "nbconvert_exporter": "python",
   "pygments_lexer": "ipython3",
   "version": "3.9.12"
  }
 },
 "nbformat": 4,
 "nbformat_minor": 5
}
